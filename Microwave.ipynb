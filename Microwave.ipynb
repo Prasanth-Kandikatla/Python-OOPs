{
 "cells": [
  {
   "cell_type": "code",
   "execution_count": 1,
   "id": "cf10fdb9",
   "metadata": {},
   "outputs": [],
   "source": [
    "class Microwave:\n",
    "    def __init__(self, brand: str, power_rating: str) -> None:\n",
    "        self.brand = brand\n",
    "        self.power_rating = power_rating"
   ]
  },
  {
   "cell_type": "code",
   "execution_count": 2,
   "id": "0a2664b2",
   "metadata": {},
   "outputs": [
    {
     "name": "stdout",
     "output_type": "stream",
     "text": [
      "smeg\n",
      "B\n"
     ]
    }
   ],
   "source": [
    "smeg: Microwave = Microwave('smeg', 'B')\n",
    "print(smeg.brand)\n",
    "print(smeg.power_rating)"
   ]
  },
  {
   "cell_type": "code",
   "execution_count": 3,
   "id": "2c5ea77a",
   "metadata": {},
   "outputs": [
    {
     "name": "stdout",
     "output_type": "stream",
     "text": [
      "Bosch\n",
      "C\n"
     ]
    }
   ],
   "source": [
    "bosch: Microwave = Microwave('Bosch', 'C')\n",
    "print(bosch.brand)\n",
    "print(bosch.power_rating)"
   ]
  }
 ],
 "metadata": {
  "kernelspec": {
   "display_name": "Python 3",
   "language": "python",
   "name": "python3"
  },
  "language_info": {
   "codemirror_mode": {
    "name": "ipython",
    "version": 3
   },
   "file_extension": ".py",
   "mimetype": "text/x-python",
   "name": "python",
   "nbconvert_exporter": "python",
   "pygments_lexer": "ipython3",
   "version": "3.11.8"
  }
 },
 "nbformat": 4,
 "nbformat_minor": 5
}
